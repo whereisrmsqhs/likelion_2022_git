{
 "cells": [
  {
   "cell_type": "code",
   "execution_count": 1,
   "id": "1b8f164c",
   "metadata": {},
   "outputs": [
    {
     "name": "stdout",
     "output_type": "stream",
     "text": [
      "피자\n"
     ]
    }
   ],
   "source": [
    "import random\n",
    "\n",
    "print(random.choice([\"된장찌개\",\"피자\",\"제육볶음\"]))"
   ]
  },
  {
   "cell_type": "code",
   "execution_count": 2,
   "id": "98b273ef",
   "metadata": {},
   "outputs": [
    {
     "name": "stdout",
     "output_type": "stream",
     "text": [
      "짜장면\n"
     ]
    }
   ],
   "source": [
    "print(random.choice([\"피자\",\"라면\",\"햄버거\",\"짜장면\"]))\n"
   ]
  },
  {
   "cell_type": "code",
   "execution_count": 3,
   "id": "8bdb1be6",
   "metadata": {},
   "outputs": [
    {
     "name": "stdout",
     "output_type": "stream",
     "text": [
      "라면\n",
      "피자\n",
      "짜장면\n",
      "짜장면\n",
      "햄버거\n",
      "짜장면\n",
      "라면\n",
      "짜장면\n",
      "햄버거\n",
      "라면\n",
      "햄버거\n",
      "짜장면\n",
      "라면\n",
      "라면\n",
      "라면\n",
      "피자\n",
      "피자\n",
      "라면\n",
      "햄버거\n",
      "짜장면\n",
      "짜장면\n",
      "햄버거\n",
      "라면\n",
      "짜장면\n",
      "피자\n",
      "짜장면\n",
      "피자\n",
      "햄버거\n",
      "라면\n",
      "짜장면\n"
     ]
    }
   ],
   "source": [
    "for x in range(30):\n",
    "    print(random.choice([\"피자\",\"라면\",\"햄버거\",\"짜장면\"]))"
   ]
  },
  {
   "cell_type": "code",
   "execution_count": 4,
   "id": "708230a6",
   "metadata": {},
   "outputs": [],
   "source": [
    "import time\n",
    "while True:\n",
    "    break\n",
    "    print(random.choice([\"피자\",\"라면\",\"햄버거\",\"짜장면\"]))\n",
    "    print(\"이 문장도 반복되나\")\n",
    "    time.sleep(1)\n"
   ]
  },
  {
   "cell_type": "code",
   "execution_count": 5,
   "id": "596e1520",
   "metadata": {},
   "outputs": [
    {
     "name": "stdout",
     "output_type": "stream",
     "text": [
      "피자\n"
     ]
    }
   ],
   "source": [
    "lunch = random.choice([\"된장찌개\",\"피자\",\"제육볶음\"])\n",
    "dinner = random.choice([\"김밥\",\"쫄면\",\"돈까스\"])\n",
    "print(lunch)"
   ]
  },
  {
   "cell_type": "code",
   "execution_count": 7,
   "id": "185ec515",
   "metadata": {},
   "outputs": [
    {
     "name": "stdout",
     "output_type": "stream",
     "text": [
      "{'고향': '수원', '취미': '영화관람', '좋아하는 음식': '국수'}\n"
     ]
    }
   ],
   "source": [
    "information = {\"고향\":\"수원\", \"취미\":\"영화관람\",\"좋아하는 음식\":\"국수\"}\n",
    "print(information)"
   ]
  },
  {
   "cell_type": "code",
   "execution_count": 8,
   "id": "397b84f0",
   "metadata": {},
   "outputs": [
    {
     "name": "stdout",
     "output_type": "stream",
     "text": [
      "영화관람\n"
     ]
    }
   ],
   "source": [
    "print(information.get(\"취미\"))"
   ]
  },
  {
   "cell_type": "code",
   "execution_count": 2,
   "id": "4b70488c",
   "metadata": {
    "scrolled": true
   },
   "outputs": [
    {
     "name": "stdout",
     "output_type": "stream",
     "text": [
      "서울\n",
      "피아노\n"
     ]
    }
   ],
   "source": [
    "information={\"고향\":\"서울\", \"특기\":\"피아노\"}\n",
    "print(information.get(\"고향\"))\n",
    "print(information.get(\"특기\"))"
   ]
  },
  {
   "cell_type": "code",
   "execution_count": 1,
   "id": "09c7fdbc",
   "metadata": {},
   "outputs": [
    {
     "ename": "NameError",
     "evalue": "name 'information' is not defined",
     "output_type": "error",
     "traceback": [
      "\u001b[0;31m---------------------------------------------------------------------------\u001b[0m",
      "\u001b[0;31mNameError\u001b[0m                                 Traceback (most recent call last)",
      "Input \u001b[0;32mIn [1]\u001b[0m, in \u001b[0;36m<cell line: 1>\u001b[0;34m()\u001b[0m\n\u001b[0;32m----> 1\u001b[0m \u001b[38;5;28mprint\u001b[39m(\u001b[43minformation\u001b[49m)\n",
      "\u001b[0;31mNameError\u001b[0m: name 'information' is not defined"
     ]
    }
   ],
   "source": [
    "print(information)"
   ]
  },
  {
   "cell_type": "code",
   "execution_count": 3,
   "id": "19e1dc2a",
   "metadata": {},
   "outputs": [
    {
     "name": "stdout",
     "output_type": "stream",
     "text": [
      "영화관람\n",
      "{'고향': '수원', '취미': '영화관람', '특기': '피아노', '사는곳': '서울'}\n",
      "4\n",
      "{}\n",
      "제육볶음\n"
     ]
    }
   ],
   "source": [
    "information = {\"고향\":\"수원\", \"취미\":\"영화관람\",\"좋아하는 음식\":\"국수\"}\n",
    "foods=[\"된장찌개\",\"피자\",\"제육볶음\"]\n",
    "print(information.get(\"취미\"))\n",
    "information[\"특기\"]=\"피아노\"\n",
    "information[\"사는곳\"]=\"서울\"\n",
    "del information[\"좋아하는 음식\"]\n",
    "print(information)\n",
    "print(len(information))\n",
    "information.clear()\n",
    "print(information)\n",
    "print(foods[2])\n"
   ]
  },
  {
   "cell_type": "code",
   "execution_count": 4,
   "id": "99e4896c",
   "metadata": {},
   "outputs": [
    {
     "name": "stdout",
     "output_type": "stream",
     "text": [
      "['된장찌개', '피자', '제육볶음', '김밥']\n"
     ]
    }
   ],
   "source": [
    "foods.append(\"김밥\")\n",
    "print(foods)"
   ]
  },
  {
   "cell_type": "code",
   "execution_count": 5,
   "id": "9c16d8de",
   "metadata": {},
   "outputs": [
    {
     "name": "stdout",
     "output_type": "stream",
     "text": [
      "['된장찌개', '제육볶음', '김밥']\n"
     ]
    }
   ],
   "source": [
    "del foods[1]\n",
    "print(foods)"
   ]
  },
  {
   "cell_type": "code",
   "execution_count": 7,
   "id": "6c82e16d",
   "metadata": {},
   "outputs": [
    {
     "name": "stdout",
     "output_type": "stream",
     "text": [
      "된장찌개\n",
      "제육볶음\n",
      "김밥\n"
     ]
    }
   ],
   "source": [
    "for x in range(len(foods)):\n",
    "    print(foods[x])"
   ]
  },
  {
   "cell_type": "code",
   "execution_count": 8,
   "id": "ff3d7311",
   "metadata": {},
   "outputs": [
    {
     "name": "stdout",
     "output_type": "stream",
     "text": [
      "된장찌개\n",
      "제육볶음\n",
      "김밥\n"
     ]
    }
   ],
   "source": [
    "for x in foods:\n",
    "    print(x)"
   ]
  },
  {
   "cell_type": "code",
   "execution_count": 11,
   "id": "0559abc3",
   "metadata": {},
   "outputs": [
    {
     "name": "stdout",
     "output_type": "stream",
     "text": [
      "고향\n",
      "수원\n",
      "취미\n",
      "영화관람\n",
      "좋아하는 음식\n",
      "국수\n"
     ]
    }
   ],
   "source": [
    "information = {\"고향\":\"수원\", \"취미\":\"영화관람\",\"좋아하는 음식\":\"국수\"}\n",
    "for x,y in information.items():\n",
    "    print(x)\n",
    "    print(y)"
   ]
  },
  {
   "cell_type": "code",
   "execution_count": 12,
   "id": "671ee0c2",
   "metadata": {},
   "outputs": [
    {
     "name": "stdout",
     "output_type": "stream",
     "text": [
      "{'떡국', '김밥', '제육볶음', '된장찌개', '피자'}\n"
     ]
    }
   ],
   "source": [
    "menu1 = set([\"된장찌개\", \"떡국\", \"김밥\"])\n",
    "menu2 = set([\"된장찌개\", \"피자\", \"제육볶음\"])\n",
    "menu3 = menu1 | menu2\n",
    "print(menu3)"
   ]
  },
  {
   "cell_type": "code",
   "execution_count": 13,
   "id": "0fcffa29",
   "metadata": {},
   "outputs": [
    {
     "name": "stdout",
     "output_type": "stream",
     "text": [
      "{'된장찌개'}\n"
     ]
    }
   ],
   "source": [
    "menu3 = menu1 & menu2\n",
    "print(menu3)"
   ]
  },
  {
   "cell_type": "code",
   "execution_count": 14,
   "id": "d2c2e8f7",
   "metadata": {},
   "outputs": [
    {
     "name": "stdout",
     "output_type": "stream",
     "text": [
      "{'김밥', '떡국'}\n"
     ]
    }
   ],
   "source": [
    "menu3 = menu1 - menu2\n",
    "print(menu3)"
   ]
  },
  {
   "cell_type": "code",
   "execution_count": 31,
   "id": "d4ae0069",
   "metadata": {},
   "outputs": [
    {
     "name": "stdout",
     "output_type": "stream",
     "text": [
      "그냥 주세요\n",
      "종료\n"
     ]
    }
   ],
   "source": [
    "import random\n",
    "food = random.choice([\"된장찌개\",\"제육볶음\",\"피자\"])\n",
    "if (food==\"제육볶음\"):\n",
    "    print(\"곱빼기 주세요\")\n",
    "else:\n",
    "    print(\"그냥 주세요\")\n",
    "print(\"종료\")"
   ]
  },
  {
   "cell_type": "code",
   "execution_count": 32,
   "id": "64b3e7f0",
   "metadata": {},
   "outputs": [
    {
     "name": "stdout",
     "output_type": "stream",
     "text": [
      "['된장찌개', '피자', '제육볶음', '짜장면']\n",
      "음식을 추가 해주세요 : 돈까스\n",
      "['된장찌개', '피자', '제육볶음', '짜장면', '돈까스']\n",
      "음식을 추가 해주세요 : q\n",
      "['된장찌개', '피자', '제육볶음', '짜장면', '돈까스']\n",
      "{'돈까스', '제육볶음', '된장찌개', '피자', '짜장면'}\n",
      "음식을 삭제해주세요 : 된장찌개\n",
      "{'돈까스', '짜장면', '제육볶음', '피자'}\n",
      "음식을 삭제해주세요 : q\n",
      "{'돈까스', '짜장면', '제육볶음', '피자'} 중에서 선택합니다.\n",
      "5\n",
      "4\n",
      "3\n",
      "2\n",
      "1\n",
      "돈까스\n"
     ]
    }
   ],
   "source": [
    "import random\n",
    "import time\n",
    "\n",
    "lunch = [\"된장찌개\",\"피자\",\"제육볶음\",\"짜장면\"]\n",
    "while True:\n",
    "    print(lunch)\n",
    "    item = input(\"음식을 추가 해주세요 : \")\n",
    "    if(item==\"q\"):\n",
    "        break\n",
    "    else:\n",
    "        lunch.append(item)\n",
    "print(lunch)\n",
    "\n",
    "set_lunch = set(lunch)\n",
    "while True:\n",
    "    print(set_lunch)\n",
    "    item = input(\"음식을 삭제해주세요 : \")\n",
    "    if(item==\"q\"):\n",
    "        break\n",
    "    else:\n",
    "        set_lunch = set_lunch - set([item])\n",
    "        \n",
    "print(set_lunch, \"중에서 선택합니다.\")\n",
    "print(\"5\")\n",
    "time.sleep(1)\n",
    "print(\"4\")\n",
    "time.sleep(1)\n",
    "print(\"3\")\n",
    "time.sleep(1)\n",
    "print(\"2\")\n",
    "time.sleep(1)\n",
    "print(\"1\")\n",
    "time.sleep(1)\n",
    "\n",
    "print(random.choice(list(set_lunch)))"
   ]
  },
  {
   "cell_type": "code",
   "execution_count": 33,
   "id": "2790e0b4",
   "metadata": {},
   "outputs": [
    {
     "name": "stdout",
     "output_type": "stream",
     "text": [
      "1. 커피를 넣는다.\n",
      "2. 우유를 넣는다.\n",
      "3. 신나게 섞는다.\n",
      "1. 블루베리 20g를 넣는다..\n",
      "2. 우유를 300ml 넣는다.\n",
      "3. 얼음를 넣는다.\n",
      "4. 믹서기에 간다.\n",
      "1. 얼음을 넣는다.\n",
      "2. 연유를 30ml 넣는다.\n",
      "3. 찬 우유를 넣는다.\n",
      "4. 에스프레소샷을 넣는다.\n"
     ]
    }
   ],
   "source": [
    "def make_dolcelatte():\n",
    "    print(\"1. 얼음을 넣는다.\")\n",
    "    print(\"2. 연유를 30ml 넣는다.\")\n",
    "    print(\"3. 찬 우유를 넣는다.\")\n",
    "    print(\"4. 에스프레소샷을 넣는다.\")\n",
    "    \n",
    "def make_blueberry_smoothie():\n",
    "    print(\"1. 블루베리 20g를 넣는다..\")\n",
    "    print(\"2. 우유를 300ml 넣는다.\")\n",
    "    print(\"3. 얼음를 넣는다.\")\n",
    "    print(\"4. 믹서기에 간다.\")\n",
    "    \n",
    "def make_simple_latte():\n",
    "    print(\"1. 커피를 넣는다.\")\n",
    "    print(\"2. 우유를 넣는다.\")\n",
    "    print(\"3. 신나게 섞는다.\")\n",
    "    \n",
    "make_simple_latte()\n",
    "make_blueberry_smoothie()\n",
    "make_dolcelatte()"
   ]
  },
  {
   "cell_type": "code",
   "execution_count": 34,
   "id": "baf02d20",
   "metadata": {},
   "outputs": [
    {
     "name": "stdout",
     "output_type": "stream",
     "text": [
      "질문을 입력해주세요 : 이름은?\n",
      "질문을 입력해주세요 : 나이는?\n",
      "질문을 입력해주세요 : q\n",
      "이름은?\n",
      "답변을 입력해주세여 :재익\n",
      "나이는?\n",
      "답변을 입력해주세여 :25\n",
      "{'이름은?': '재익', '나이는?': '25'}\n"
     ]
    }
   ],
   "source": [
    "total_dictionary = {}\n",
    "\n",
    "while True:\n",
    "    question = input(\"질문을 입력해주세요 : \")\n",
    "    if(question == \"q\"):\n",
    "        break\n",
    "    else:\n",
    "        total_dictionary[question] = \"\"\n",
    "        \n",
    "for i in total_dictionary:\n",
    "    print(i)\n",
    "    answer = input(\"답변을 입력해주세여 :\")\n",
    "    total_dictionary[i] = answer\n",
    "print(total_dictionary)"
   ]
  },
  {
   "cell_type": "code",
   "execution_count": 35,
   "id": "eaf1a6c3",
   "metadata": {},
   "outputs": [
    {
     "name": "stdout",
     "output_type": "stream",
     "text": [
      "질문을 입력해주세요 : asd\n",
      "질문을 입력해주세요 : sdf\n",
      "질문을 입력해주세요 : q\n",
      "asd\n",
      "답변을 입력해주세요 : sdf\n",
      "sdf\n",
      "답변을 입력해주세요 : sdf\n",
      "[{'질문': 'asd', '답변': 'sdf'}, {'질문': 'sdf', '답변': 'sdf'}]\n"
     ]
    }
   ],
   "source": [
    "total_list = []\n",
    "\n",
    "while True:\n",
    "    question = input(\"질문을 입력해주세요 : \")\n",
    "    if question == \"q\":\n",
    "        break\n",
    "    else:\n",
    "        total_list.append({\"질문\": question, \"답변\" : \"\"})\n",
    "    \n",
    "for i in total_list:\n",
    "    print(i[\"질문\"])\n",
    "    answer = input(\"답변을 입력해주세요 : \")\n",
    "    i[\"답변\"] = answer\n",
    "print(total_list)"
   ]
  },
  {
   "cell_type": "code",
   "execution_count": null,
   "id": "fca96f49",
   "metadata": {},
   "outputs": [],
   "source": []
  }
 ],
 "metadata": {
  "kernelspec": {
   "display_name": "Python 3 (ipykernel)",
   "language": "python",
   "name": "python3"
  },
  "language_info": {
   "codemirror_mode": {
    "name": "ipython",
    "version": 3
   },
   "file_extension": ".py",
   "mimetype": "text/x-python",
   "name": "python",
   "nbconvert_exporter": "python",
   "pygments_lexer": "ipython3",
   "version": "3.10.4"
  }
 },
 "nbformat": 4,
 "nbformat_minor": 5
}
